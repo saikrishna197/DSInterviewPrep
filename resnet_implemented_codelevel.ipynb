{
  "cells": [
    {
      "cell_type": "code",
      "execution_count": null,
      "metadata": {
        "id": "schdC_ALCexu"
      },
      "outputs": [],
      "source": [
        "import numpy as np\n",
        "import torch\n",
        "import torch.nn as nn\n",
        "from torchvision import datasets\n",
        "from torchvision import transforms\n",
        "from torch.utils.data.sampler import SubsetRandomSampler\n",
        "\n",
        "\n",
        "# Device configuration\n",
        "device = torch.device('cuda' if torch.cuda.is_available() else 'cpu')"
      ]
    },
    {
      "cell_type": "markdown",
      "metadata": {
        "id": "Cy3gEyFwCvhE"
      },
      "source": [
        "#Load cifar Dataset"
      ]
    },
    {
      "cell_type": "code",
      "execution_count": null,
      "metadata": {
        "colab": {
          "base_uri": "https://localhost:8080/",
          "height": 120,
          "referenced_widgets": [
            "f3998837240a4d00989b25969bfc7de2",
            "4e38d52ab5e84a9087c51295b701950b",
            "87ae5770a9bd442fa41b6b813116de9b",
            "8901d02ae11e4594a04f35e8ca9f51aa",
            "64569b37797c45719fa8fe1767c1d0c5",
            "6a066c7461b242de839250f1203c78d2",
            "42f7b8633cb847088a8d421276b1d42c",
            "70ad5c813db5429193c61c7a140f00b5",
            "25c1fc18cdb543c1b370820b847f9787",
            "97bc4ccfa734444c96f6837e4e3fad89",
            "14e7828751834edd85c0b0bec15cbdff"
          ]
        },
        "id": "ohv676zfCk1d",
        "outputId": "8fa8ab14-0bf8-4f18-fa5e-84f4c629131b"
      },
      "outputs": [
        {
          "name": "stdout",
          "output_type": "stream",
          "text": [
            "Downloading https://www.cs.toronto.edu/~kriz/cifar-10-python.tar.gz to ./data/cifar-10-python.tar.gz\n"
          ]
        },
        {
          "data": {
            "application/vnd.jupyter.widget-view+json": {
              "model_id": "f3998837240a4d00989b25969bfc7de2",
              "version_major": 2,
              "version_minor": 0
            },
            "text/plain": [
              "  0%|          | 0/170498071 [00:00<?, ?it/s]"
            ]
          },
          "metadata": {},
          "output_type": "display_data"
        },
        {
          "name": "stdout",
          "output_type": "stream",
          "text": [
            "Extracting ./data/cifar-10-python.tar.gz to ./data\n",
            "Files already downloaded and verified\n",
            "Files already downloaded and verified\n"
          ]
        }
      ],
      "source": [
        "def data_loader(data_dir,\n",
        "                batch_size,\n",
        "                random_seed=42,\n",
        "                valid_size=0.1,\n",
        "                shuffle=True,\n",
        "                test=False):\n",
        "  \n",
        "    normalize = transforms.Normalize(\n",
        "        mean=[0.4914, 0.4822, 0.4465],\n",
        "        std=[0.2023, 0.1994, 0.2010],\n",
        "    )\n",
        "\n",
        "    # define transforms\n",
        "    transform = transforms.Compose([\n",
        "            transforms.Resize((224,224)),\n",
        "            transforms.ToTensor(),\n",
        "            normalize,\n",
        "    ])\n",
        "\n",
        "    if test:\n",
        "        dataset = datasets.CIFAR10(\n",
        "          root=data_dir, train=False,\n",
        "          download=True, transform=transform,\n",
        "        )\n",
        "\n",
        "        data_loader = torch.utils.data.DataLoader(\n",
        "            dataset, batch_size=batch_size, shuffle=shuffle\n",
        "        )\n",
        "\n",
        "        return data_loader\n",
        "\n",
        "    # load the dataset\n",
        "    train_dataset = datasets.CIFAR10(\n",
        "        root=data_dir, train=True,\n",
        "        download=True, transform=transform,\n",
        "    )\n",
        "\n",
        "    valid_dataset = datasets.CIFAR10(\n",
        "        root=data_dir, train=True,\n",
        "        download=True, transform=transform,\n",
        "    )\n",
        "\n",
        "    num_train = len(train_dataset)\n",
        "    indices = list(range(num_train))\n",
        "    split = int(np.floor(valid_size * num_train))\n",
        "\n",
        "    if shuffle:\n",
        "        np.random.seed(42)\n",
        "        np.random.shuffle(indices)\n",
        "\n",
        "    train_idx, valid_idx = indices[split:], indices[:split]\n",
        "    train_sampler = SubsetRandomSampler(train_idx)\n",
        "    valid_sampler = SubsetRandomSampler(valid_idx)\n",
        "\n",
        "    train_loader = torch.utils.data.DataLoader(\n",
        "        train_dataset, batch_size=batch_size, sampler=train_sampler)\n",
        " \n",
        "    valid_loader = torch.utils.data.DataLoader(\n",
        "        valid_dataset, batch_size=batch_size, sampler=valid_sampler)\n",
        "\n",
        "    return (train_loader, valid_loader)\n",
        "\n",
        "\n",
        "# CIFAR10 dataset \n",
        "train_loader, valid_loader = data_loader(data_dir='./data',\n",
        "                                         batch_size=64)\n",
        "\n",
        "test_loader = data_loader(data_dir='./data',\n",
        "                              batch_size=64,\n",
        "                              test=True)"
      ]
    },
    {
      "cell_type": "markdown",
      "metadata": {
        "id": "SNVDeyHhDTKT"
      },
      "source": [
        "##ResNet\n",
        "![image-9.png](data:image/png;base64,iVBORw0KGgoAAAANSUhEUgAAAOcAAAB9CAYAAABZCXQFAAAACXBIWXMAAAsTAAALEwEAmpwYAAAZQElEQVR4nO2d/1NTZ77H9w84sz/s6aaOy8xm2hkGNJtxmMDmZkAxcBXaqqw3ypeVpVI7Mb2iskuosFKrYr27sVpBumWL0npZvRrbjQuuINlelkVaESwurVwrYlNH0Rk2l1uYaWb2h/edzzk5IUCCCQY4yXleM89Izjmcc2jPK5/n+TzPeZ7vgcFgyJLvLfYNMBiMwDA5GQyZwuRkMGQKk5PBkClMTgZDpjA5GQyZwuRkMGQKk5PBkClMTgZDpjA5GQyZwuRkMGQKk5PBkClMTgZDpjA5ZUpTUxOam5sX+zYYiwiTM8J82WBGxso0aLTJ0KTsRSuA1r2rkKRNQ2rmC9hHG0KgvLwcdXV1kb49RhTB5JwPPH04bjJAo8vH8Z5rOLl1LTbW9METximYnAwm53zx8CJ2r0wWIuiGY+GJSTA5GUzOecODHttGQc4kUy36wrSTyclgcs4LHvTVFSJz6yl88lEZUrXJSC29iAdhnIHJyWByRpjRG5fx+zd/jlTtRhz46yiAQTQWrYJGa8DGff+Jyzdo25PZtGkTfvjDH+JHP/rRlKJSqfDss89i2bJlvmIwGISSnZ0tlLy8PF8xm804dOiQL/vb2dkJl8vFnvwogMkZYTyjLgwPDwvFNUp12XE88n6e3BZa5Dxy5AjGxsYCFhKMys2bN4VC0kmFJKRCQpKYVEhSSV4SmuM4odDP/hIzeeUDk1OmLFS1lgQnkeladE2SlyI0iUs/k7S0j74AGAsLk1OmyKHNKUVfuhdJWIqyUoRlzC9MTpkiBzmnQ9VpSVZq45KsFFmZqPMDk1OmyFHOQLLSPVL1l0Sle2aiRg4mp8z47rvvZsgpbZMz1Hal+6UEE1WB6f4ZTweTU2a8/PLLQiRavXo1XnrpJeHfyspKRBMUPam6K0VTxtxgcsqM1tZWoS/Tv6ujt7cX0QhleP0lpWowI3SYnDJEeqCp/PrXv0a0Q1Ve6W+ihBIjNJicMo049CA/88wzePToEWLp75JGMrFRSk+GySlTqD8xVttr1E/KouiTUayc9M0tDWeTY1m5ciUyMjIW/T6CFfryiEQUpeouIzCKlVN6OPzHpLIS+n8D6i6JRIJHkp0xE8XLyZgbkZKToOhJX5QsmzsVJidj0eUkpCGBTNBJmJwMWchJSK+1MUSYnDLgbpcd9q67IR7tRn+rHa39bsSanIT0mhqDybkgz8DQCSM4zogTQ4H3O4o5cMWOaVs9uN0RSMIB2PQc9LYBxKKcdE4aFdXEBiuwyDkveNy477oPd5BJDzzu+3A9npgh59TtwSSctv0J1/K7Ktz3Xbg//UDh9x9j8m4WV06pm4vjOMUPVGDV2vAeG9RnceBJJK8kXFY9XPDAUcyDMzXhfxxmxKvikWnKFP41O0bIPnBcMRwYgcMcD9WKHOSs4MEtScHmhh5RTp7H0pRUrOB5pNn60dVQgNQ4DnGpBbBYGtATQM6BE0aol2ejyJQCFR+PcudVHNBwiCt1CkcO1RnBxZXCOeKAOV6F+EwTMulfs3AnKBaGCKqgTkyENcTJrhdCTqKuru6p+1KjHSZnmPgeeFc9soSH24QmtxOlcRxMTX8R5Eio6haO7a5KAJd2DIOSnA9OYR23BDuvALiyE0u4dTj1wBs517+PbzxA/2EdON1h9IcaOadtE++vBG2eIdQZxXu5fkADLqEKwl11VyGBS8OxQVFO/eH+sOfUXQg5CareKnlJCiZnuAzYoOcSsHOnCVyCBhqeR3FVBRK4LNS7xAdejHYWsVS3wOWLnJ2oeI6DOvcIjuSqwacdw8C0NueATe899slyjrTtR7ZOC60hFSvivMcO1cHIxaGk8R0YOQ0OXPeePy4VBdI9WarR4r3XGU1dGcnZ3NwsXEepMDnD5roQHXmeR1ypA2dzeeFnsXor7kuo6JwajSQ5B48hjUtFdTfNnDfZTpxNTikKz5TzTziWxuG5CprLpx+HdZLIbjSZxPvjNAdwne5YiJwV6Jx6U7KXk6CqrVKTQ0zOOSA87ByPYocH7iaTkLww1omp2BHHDixXqZBiKkK2Vg317tZJOSeasW0JB3W6Cdk6NZYuXYNj/Z6ZcvJmXIIHzlI1OJUaidpKiK1IfzlvoP+YESpVCrIzl0PFT0ZZ99lc8Jxf1B1xYMdyFVQpJhRla6FW70ZrlMh58+ZNxUZPJuc8MfE4QAb0khk8V4Bzwg4x2mmo3vl0F4Jf4lfA01aCOM4I7/fFrMfOlYWSU2p7KnFuIibnQjLShvL0eMTHJyIxPh7x6eVoG4n0Rb7FhUIefFY9gnSrRp2cTU1NihyYwORkyF7OsbExRfZ7MjkZspeTkGaeVxJMTkZUyNnU1KS4QQmKlpMeMPo2lmOprq5e9HuYrSy0nGNjY4rL2ipWTukdQqouybHodDqsWrVq0e8jWFmMKuayZcsU1e5UtJxyJhqWY1hoyhX232RR5Xzw11Owh9TNdx32kx1hrQwd7SjtQQyFOoUNho+8nOMD+FPNQZS/Xhmk/BYXvvTAc6MWr1hDX4r9gWMPXqnpm9MgbaXKOTnaKDZobm5mcs6d+7j8zkHUXxnA8PCnOGpKRsrWBvRIKzu3/R7lb76Pjq+d2GvcgXOhrcDuZRSO0hzsbVeGnkzOmSgtKTR/1drRM3hVm4zc3381c9e5HUitmhwtGjJdv4Ex/33MPKOS5BSnKbG3nEed1QJrfTfc8OCba43YT2+c7H8XzlsTMyKnMBVKaz/EeRXuosu++FOdzAWO4xQzCdi8yelpq4JeuwnH+6fvuYeThQZYW6TPo+i7/BHsF7yl8w6AO/ib9PlCJ2iLiBN7DVtx8h4ULKf3JW+OxwqzDbbaVnTXZ4Hn01DW7ERzWRp41TqcGpoqpzC4nt4tFc4hDnpPOyZ+iiYMBoPQDaYE5k3O9qrV0GS/hXapSjs8jEfjtOcSrLp81H0xVc6a7RnQaJOx1kbv/A+isWgVUrefmCbnF6gz+YutYDlNTd4o6P1c8IHQzeAaaoCJ47HulCsm5czOzlbMIPj5kdPTigpDMtYUeZNA5p9jk7kGbQ/Jr99ho7YMM95U8vThuMkAjS4fVms+0reeQl+A5qWjNBkbJ81WrJy8WUrzeKcb0bw4+YK3xYLajm9jUs68vDzFzI4wL3JSmzJJ/yo+vB1gZ38tNgSSk3h4EbtXJkOjLcaprwOfm+TcUDOjrqxgOQeFl6753LPeSOp3pJ+cztI4cOpydNCOkUasj1I5zQoaYzsPcn6F+vxkGCtbMRo0URRYzvGed7DRuBbpumQkmWqDRs4tCmh0hi4nvUtNk4otRepWG2z7i5CtM+Lt3qlyepylUHP0ErgJKSqavSE65SxXUP9vZOT0fI1PT9tQ/9dx4NoRrAmYCPJP6szcT/2eG41luPC1Bw8cZUjVJiO1dHo/aD+O56zG3nbEPMEfwsBTXNK0mr1OO1qu3vLtE6bavE+5XJGJx71w2p34u3tCOEekXrxe6OUDDx06BCUQGTkfnsP2lGRodGuRaczB9qbZBgt44Cg14NUzUly9jTPWfLyY+QIysnfiNFWFP3kbG7JfQEbmemzI24MzUvXY8xF26MrgiOGuTnr7grKRJGdtbS16enpw+fLlxb4t2XCIyTkHxkeEjKxr1BNSN0vq9nOBq72zIPSPVrbG9CghaWFZmqDrBz/4gfCzUhIgiyHn+Mhkb8KwaxQeeDDqkra5EMLjHGtjax/ijDkfR2+E8Zd7+nDUtBUnAyWZYoihoSGhL4+kpLJ+/XrFdLqHQnl5eUTl/KyxEiWbxW68lG1/wD3cg2N3NjQrf46S14+i+Z4SB74/vIg95lr0CH2fT8KDvrod2OOgvpjYx2az+eRsbGxc7NuJ/YSQZ7Ib76i9FptXFqIunMARk6+MjY94ByY88UA8GgnpwJgaQ0oRlLFA2VpfN96/Yt9fFl9MKP19Tkq8yLXs2rVLSAgt9n0EK4tV1TabzfMzybQQPdOQNEs33kLzPaVPU0LRSY5Fr9cv+j3MVhZrAHrefIwQEsRci+1nBvF10G68hUfRcrJq49xZ6DmE/MfWRlLOzxp/iS1r0qDR5cD2Gb2XcRG7Mqh6a0B2cSUaadsiweRkRJWcy5YtY2+lxDosckavnC6FTPLFIicjquTkOA5Kgcm5AHhud8Bu78DtIBnAVmsiEkNeWnoQ7+UkIue9QcXJ6XK5hMipFJicC4DbeRQWy1E4g8wK4r8E4CQufFgQSMJgi+rGvpydnZ2KSuIxOcNCnL+npZeWBvPgdocd9q67wp6R3hZxjh7PN7h23garxQrb+WvCUvK42wW7vQt0pOebazhvswpz/djt4u+Ly85Xe7c3gk5/t6sWRQkcEopqfb87Q86JW3B+4H+taXMD+a5Lcwydh43mHLKdxzXxpoRj7cLv74dj8gKylbNJYauNMTnDgha6lVaxdqI0jgOXUIVuuFCfxSGu9LK44K2+Au297ajQc1CXOuHxLTvfgXI1B/3BLnQd1INbsg3nH0+IcvLxKGxsxuE0Hvy6Uxh83IE3dBx0b3TA5fJf63NSzt4PdmJ/41Xc6n0fpjgOWfV/F1balqYwEV6wNtbhlvAupx4V7b1or9CDU5fC6fHOoKDOxRG7Hd7vGFnLWV5eLhSlwOQMExKN50xoulKFBGH8qx627iaYuDiUOi/BzEvRzo7aogRwehsGJDnddJy4IrbvPO4Ay87HlcIZtPrqv53e7byFqy1ilKVt4nmzUO8Svzyy6l24ZObBJRShliJlbRES6J4HRDkLL8xtKMxiyJmnoClKCCZnuHgFS0vTg8sqRnECB2NWFvi4ErR5o5EY7VxioZedJTk9bSiJ47FUm4Y0nQ6b6/uF199myClE2SfJeUOM0ppivNvyB1h13mOFa3AwbtyIOH/5dW+gQ7on1324PdGx7LxSu1EIJmfYuNFkEt8YIRm6qxLE9y+LHRTHhGoln3YYvRMeuO9cRQvVFyU5B48hjVMj94hdiKwtV4eF6mpgOb1zAxU2BanW/knYH2f+M9zfnENh3KTIQnWWm5xXyH02V5g683DvBDzuO7jaQu3Q6JLzpne4ZXB60GCxwHpmYH5nvne1oNpiwdFg2b0IwuScc/bVCuE56GkQZrt7r9tbPRzpReN+C0zp6TBRoubKXe8xDegZqkcWr0bxuV5cbfkPmOJ4ZNUPoafBAktDj/f/fTUs1jOgU4+0/VacTc/7WcSFlmoLqltc8Ny+gP2mdKSbrLBaxW0C3VTl5pF7VnqARtDbuB8W4VhKCl3BXe/D7L2s7OWse+I6KcEnyn46OVuxQ6XCGilr7u5Hq9RGHzwBo2opdofaCxYmTM6F5JIZPKfHwS4XXEISR5xfNtIM1RnB8VSNxryx0HLmPbG9OVVOyorTl6TFakONRecn5wRuNVOG2j9z7Z1F3+lEM2XMLfvRKGTk6ZyVMHIcNNsou96Fu5KcN/rRKrTfeWS9QbPpt+Ay1YaE3yNG0Nsymc2fC0zOBWUCt5wfCF0a9NB84LzlV12NFN+io9YC62mxPRsLco5532+dvb3pNxev+xLMag58Whk+eNeMFTznldMjttPVuXjX6cS7uWrw8eVwevxn0X8XR3LV4IRZ80kwUU4hyffHT/HNgA16jofZcRsdgpwcjJV22Nu70UhNmqS3ICycN1QHI8ej8MK3c/67mZwM2cvZ3NwcwuADPzmFGooGB7zLS/Yf9kZOSoLxfgk7ZyW0nBrlHV45pQa4JOClABNw+++bcpw3k88n4a3rUu2lEE/hJpOTIX85zWZzCPMGTUo0dMIIjkvDpE/eNqcgE4e41AK/2fErYR+cNhfwHOWUMuWaA2dnzC08F1jkZMhazpveLO2TrzUzclYJSToPOisSvNVasR9aI4VUHxGSU8jFJYBTqaAS+r2f7m9XrJz0P5u6G6jvTI7lxz/+MZ577rlFv49gZaHkNIcUNadJ5OnG/hU8VMuzYcqMh4rnfW3O/mNGqFTLkV1ug81qQnqiBX8cm03O6zig4cCvyIEp3YpW/33us8jlOajTTcgueE9ch+b6AWiEkVfepS+eAsXKSdDD5RssILNCVa7q6upFv4/ZykK0NZctWxbil8AEHrv8ZrGfeIxbV1vEvuSJx9NmvqdRVXY4e6Xjp82i73HjvjBQw/9cTlwdnpixT5xpn2bRlzb8GeYlgaJz+ChaTjmjpDVBAjE2NiYkgaJtuJ4w4INLwlufP/25mJwyRelyms3mqBzk7ns7KQLnYnLKFCXLSX+3wWBQ/Ez3TE6ZolQ56W8OvZ0Z2zA5ZYb0UPrLqZQHlf5miphKevNkNpicMoPGkEoTN2dmZiIpKSkq217hQF8+1MakOWmV8kUUCkxOmdHe3o5nn33Wt5CRRqPB559HIPUnU2heIKrGkpxMzKkwOWUIPaiSnHv37kUsQiJSjYDEjLbukoWCySlDaCXrZ555BgkJCejt7UWsSUkjfli0fDJMThm3PWOprekvJbUtacwsY3aYnDKDHlrK0m7btg0lJSXCdJDRmr0kIalNKVVfmZThweSUYRuM2pwkKBWp/RnJpdYXQki6X8o4k5D0d7BkT/gwOWUAPbiztcFoG1Vz6UGXI3R/lNSh+5fWPKUvGlZ1VZqc46MYDWX+Dc8oRsejdxyptIK0P/TQz8uqznOIjFJUp3siIenLg7YxIWNQTs+oC8PDw0GKSxTy4UVYt4W4JDitVrxtDxwPERX9fNMjZqDhe9T2nD495D//+U9B2C1btkT0vuhadG90bqqiSoMj6F6lyCjJyKqsMSvnKNqr87C24Jcof70cBbSqsCEPltcrUU6laB00upew78+dOJ63A2fCke3hGWzPC1HmRYIe8EBZ2WBja6XFY7/77jthv1arFdqkoWR2pfdX6fepGkriSdenQtVmKRJK1VMpa8xEVKSc/jix15CM1Df/e8ae0XM7sOZAR9gzyn32259hy8mvQju49SCKG77AQuI/5SP9S5+p/OQnP8FPf/pT32eKYkRZWRkKCwvx/PPP+wYqUNHpdD65pCLNWECFjqF/pcgnnVcSjwpdg0VC+SAvOW+8gxe1Blhbpu/4CvX52TjUNYdzdv0GxpxahNSr5ijDhpp+LCTTB7iToFQ2bdqE1157zfdZqjqSUEePHkVFRQUSExN9clK3C8klCUZFmrGAfpdVPaMPWcl5s2YTNLo9M2fmHj2DV7W7MbnmTiv2Za6FXpcMjdaAzfVfAF+cQkFKMpL+ZS0yik/hS98vX8Ru7Ws4MxohOVsPIsO4CknaZGh0haBLf9nwMnRaA/TGF8KOvMGWtZutWiv1ez569Eg4jkYTvfLKK2FdlyF/ZCQnRcdkaFIykJH5grfk4+in3ui37h30TfuNB44ypGqTkVp6EQNt+5BtLAuQAOrD0XUhRt2QI+dDOEozoNFmYLdjAG1VOUgvvYgHiNyEyYHklObUmQ5JqsR3P2Md+ch57QjWaFdjb7v38/gIHkldIY4yaAJWTT3oq8kXo5hhNy4ETBb143hOMnYHWLDn5n8dFJNOfskn/b/tnLJt34ef4f+CZYNNBmi0ydCXfDQnMSWkZIw/06ui0TqnDiPq5fSgrXI1NC8dmxEdBVr2IClYu/GhHRZ9sjeKPQxLzqdtcz6w70QKfTGsDBSxw0NK5gQaqid1t8TSWFuG3OWUouPoOWzXGbDjoyAv2vbXYoNhH6Sg6oP6PdeYsPfSJ2IU0+Xj+A1PgAzwJhzvj6ycDxx7kLlhHy79pRYbdclIMj19lw1VTSm5Q0mfzZs3Y9euXb6sK4uYymPx5Py8Dj/TJUOXdwQfHtiEJNPvZsmokmBbcfKe9PkO/na6Fv/+ggEpW0/jDvn9yUGsFaLYDtRc6BS2Cdw7hS2BxJ6rnHc6cbpmN7J1q/DyaeHK+OTN9UL1NnX7Cdg7fVeeMyRiVlYW8vPzWdeGglnEyDmOAbtNbNfVtE3KNEu191VfynUcj3yjh0YwPmOEkbhN6h9NrWwNrX80FDnHRyavMyJcGaOu4Wnb5DHBl7u/FfaWXkiL0jGiC5m0OUOg/3fYWPg+QhxO4JcBDrFKS9zpxCeD8hhOFAk5hQV8lpSgLWJ3xVhIokdOITNbiO1hjN97cGYHNtf0zes6lfMFk5MRRXIS4+hpasCV+yEc+r+dON10zVe9jR05B/FeTiISdVrE8xz4dafgGumEbfNyqGh1K5Ua6fs7hUV5/SNnqzURiQUfQswFt8KamIiCD6PzJW6lEGVyKofgcnoXeo3Lwju9brgfP0JLSRw4/WH0e2iBrSpouATs7Z4qp6OYA2esw5DfilzGOvETQ54wOWVGZWUl3n77bRQVFeFXv/qV8LoWfZ4u55ISqSXpRGkcB07zoncx2BeFJehIPCZndMPklBknT56c8rbJ97//fVy8ePGJci7Zdn7K8ny0tB2TM7phcsqMf/zjH8JoIUnOX/ziF9OOmC6nG2dzeXD6g+j1rTUprh/pL6fwM1eAcxMTuNWYCzWr1soeJqcMqa+v98n58ccfB0wI6fb5rZssJIR0UC9dCnV8PHTZVjiGgMH3cpCo2yeusDzShvJ0NVScCsuzt2JzOksIyR0mpwyhqUdohgO5TujFWBiYnDKF3vOUZj9gKBMmp4yjJwOK5v8Bj563BW4JSawAAAAASUVORK5CYII=)\n",
        "\n",
        "\n",
        "One of the drawbacks of VGG was that it couldn't go as deep as wanted because it started to lose the generalization capability (i.e, it started overfitting). This is because as a neural network gets deeper, the gradients from the loss function start to shrink to zero and thus the weights are not updated. This problem is known as the vanishing gradient problem. ResNet essentially solved this problem by using skip connections.\n",
        "\n",
        "![image-10.png](data:image/png;base64,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)!\n",
        "\n",
        "In the figure above, we can see that, in addition to the normal connections, there is a direct connection that skips some layers in the model (skip connection).  With the skip connection, the output changes from h(x) = f(wx +b) to h(x) = f(x) + x. These skip connections help as they allow an alternate shortcut path for the gradients to flow through. Below is the architecture of the 34-layer ResNet.\n",
        "\n",
        "\n"
      ]
    },
    {
      "cell_type": "code",
      "execution_count": null,
      "metadata": {
        "id": "QAlSMtZZCypV"
      },
      "outputs": [],
      "source": []
    },
    {
      "cell_type": "markdown",
      "metadata": {
        "id": "Jl-HOIzEFEg6"
      },
      "source": [
        "Residual Block\n",
        "Before starting with the network, we need to build a ResidualBlock that we can re-use through out the network. The block (as shown in the architecture) contains a skip connection that is an optional parameter ( downsample ). Note that in the forward , this is applied directly to the input, x, and not to the output, out."
      ]
    },
    {
      "cell_type": "code",
      "execution_count": null,
      "metadata": {
        "id": "gxwSjYCAE3WN"
      },
      "outputs": [],
      "source": [
        "class ResidualBlock(nn.Module):\n",
        "    def __init__(self, in_channels, out_channels, stride = 1, downsample = None):\n",
        "        super(ResidualBlock, self).__init__()\n",
        "        self.conv1 = nn.Sequential(\n",
        "                        nn.Conv2d(in_channels, out_channels, kernel_size = 3, stride = stride, padding = 1),\n",
        "                        nn.BatchNorm2d(out_channels),\n",
        "                        nn.ReLU())\n",
        "        self.conv2 = nn.Sequential(\n",
        "                        nn.Conv2d(out_channels, out_channels, kernel_size = 3, stride = 1, padding = 1),\n",
        "                        nn.BatchNorm2d(out_channels))\n",
        "        self.downsample = downsample\n",
        "        self.relu = nn.ReLU()\n",
        "        self.out_channels = out_channels\n",
        "        \n",
        "    def forward(self, x):\n",
        "        residual = x\n",
        "        out = self.conv1(x)\n",
        "        out = self.conv2(out)\n",
        "        if self.downsample:\n",
        "            residual = self.downsample(x)\n",
        "        out += residual\n",
        "        out = self.relu(out)\n",
        "        return out"
      ]
    },
    {
      "cell_type": "code",
      "execution_count": null,
      "metadata": {
        "id": "6WQaQNHHE3N4"
      },
      "outputs": [],
      "source": []
    },
    {
      "cell_type": "markdown",
      "metadata": {
        "id": "MKzTQbc0XZqk"
      },
      "source": [
        "## Downsampling\n",
        "The down sampling of the volume though the network is achieved by increasing the stride instead of a pooling operation like normally CNNs do. In fact, only one max pooling operation is performed in our Conv1 layer, and one average pooling layer at the end of the ResNet, right before the fully connected dense layer in Figure 1.\n",
        "\n",
        "We can also see another repeating pattern over the layers of the ResNet, the dot layer representing the change of the dimensionality. This agrees with what we just said. The first operation of each layer is reducing the dimension, so we also need to resize the volume that goes through the skip connection, so we could add them like we did in Figure 7.\n",
        "\n",
        "This difference on the skip connections are the so called in the paper as Identity Shortcut and Projection Shortcut. The identity shortcut is the one we have already discussed, simply bypassing the input volume to the addition operator. The projection shortcut performs a convolution operation to ensure the volumes at this addition operation are the same size. From the paper we can see that there are 2 options for matching the output size. Either padding the input volume or perform 1x1 convolutions. Here, this second option is shown.\n",
        "\n",
        "\n"
      ]
    },
    {
      "cell_type": "markdown",
      "metadata": {
        "id": "GAqOeKgPFPzk"
      },
      "source": [
        "ResNet\n",
        "\n",
        "\n",
        "Note that there are three blocks in the architecture, containing 3, 3, 6, and 3 layers respectively. To make this block, we create a helper function _make_layer. The function adds the layers one by one along with the Residual Block. After the blocks, we add the average pooling and the final linear layer.\n",
        "\n"
      ]
    },
    {
      "cell_type": "code",
      "execution_count": null,
      "metadata": {
        "id": "8OySlw9cFQb1"
      },
      "outputs": [],
      "source": [
        "class ResNet(nn.Module):\n",
        "    def __init__(self, block, layers, num_classes = 10):\n",
        "        super(ResNet, self).__init__()\n",
        "        self.inplanes = 64\n",
        "        self.conv1 = nn.Sequential(\n",
        "                        nn.Conv2d(3, 64, kernel_size = 7, stride = 2, padding = 3),\n",
        "                        nn.BatchNorm2d(64),\n",
        "                        nn.ReLU())\n",
        "        self.maxpool = nn.MaxPool2d(kernel_size = 3, stride = 2, padding = 1)\n",
        "        self.layer0 = self._make_layer(block, 64, layers[0], stride = 1)\n",
        "        self.layer1 = self._make_layer(block, 128, layers[1], stride = 2)\n",
        "        self.layer2 = self._make_layer(block, 256, layers[2], stride = 2)\n",
        "        self.layer3 = self._make_layer(block, 512, layers[3], stride = 2)\n",
        "        self.avgpool = nn.AvgPool2d(7, stride=1)\n",
        "        self.fc = nn.Linear(512, num_classes)\n",
        "        \n",
        "    def _make_layer(self, block, planes, blocks, stride=1):\n",
        "        downsample = None\n",
        "        if stride != 1 or self.inplanes != planes:\n",
        "            \n",
        "            downsample = nn.Sequential(\n",
        "                nn.Conv2d(self.inplanes, planes, kernel_size=1, stride=stride),\n",
        "                nn.BatchNorm2d(planes),\n",
        "            )\n",
        "        layers = []\n",
        "        layers.append(block(self.inplanes, planes, stride, downsample))\n",
        "        self.inplanes = planes\n",
        "        for i in range(1, blocks):\n",
        "            layers.append(block(self.inplanes, planes))\n",
        "\n",
        "        return nn.Sequential(*layers)\n",
        "    \n",
        "    \n",
        "    def forward(self, x):\n",
        "        x = self.conv1(x)\n",
        "        x = self.maxpool(x)\n",
        "        x = self.layer0(x)\n",
        "        x = self.layer1(x)\n",
        "        x = self.layer2(x)\n",
        "        x = self.layer3(x)\n",
        "\n",
        "        x = self.avgpool(x)\n",
        "        x = x.view(x.size(0), -1)\n",
        "        x = self.fc(x)\n",
        "\n",
        "        return x"
      ]
    },
    {
      "cell_type": "code",
      "execution_count": null,
      "metadata": {
        "id": "e6KDmoHrFZuS"
      },
      "outputs": [],
      "source": [
        "num_classes = 10\n",
        "num_epochs = 20\n",
        "batch_size = 16\n",
        "learning_rate = 0.01\n",
        "\n",
        "model = ResNet(ResidualBlock, [3, 4, 6, 3]).to(device)\n",
        "\n",
        "# Loss and optimizer\n",
        "criterion = nn.CrossEntropyLoss()\n",
        "optimizer = torch.optim.SGD(model.parameters(), lr=learning_rate, weight_decay = 0.001, momentum = 0.9)  \n",
        "\n",
        "# Train the model\n",
        "total_step = len(train_loader)"
      ]
    },
    {
      "cell_type": "code",
      "execution_count": null,
      "metadata": {
        "colab": {
          "background_save": true,
          "base_uri": "https://localhost:8080/"
        },
        "id": "trBw-M3TFegz",
        "outputId": "778a59c7-3667-41df-88f9-ff1558756369"
      },
      "outputs": [
        {
          "name": "stdout",
          "output_type": "stream",
          "text": [
            "Epoch [1/20], Loss: 0.9993\n",
            "Accuracy of the network on the 5000 validation images: 73.5 %\n",
            "Epoch [2/20], Loss: 0.2562\n",
            "Accuracy of the network on the 5000 validation images: 78.24 %\n",
            "Epoch [3/20], Loss: 1.3213\n",
            "Accuracy of the network on the 5000 validation images: 79.32 %\n",
            "Epoch [4/20], Loss: 0.5242\n",
            "Accuracy of the network on the 5000 validation images: 80.16 %\n",
            "Epoch [5/20], Loss: 0.3557\n",
            "Accuracy of the network on the 5000 validation images: 81.74 %\n",
            "Epoch [6/20], Loss: 0.1024\n",
            "Accuracy of the network on the 5000 validation images: 82.14 %\n",
            "Epoch [7/20], Loss: 0.5635\n",
            "Accuracy of the network on the 5000 validation images: 83.1 %\n",
            "Epoch [8/20], Loss: 0.2121\n",
            "Accuracy of the network on the 5000 validation images: 82.76 %\n",
            "Epoch [9/20], Loss: 1.3202\n",
            "Accuracy of the network on the 5000 validation images: 82.7 %\n",
            "Epoch [10/20], Loss: 0.3079\n",
            "Accuracy of the network on the 5000 validation images: 83.34 %\n",
            "Epoch [11/20], Loss: 0.2003\n",
            "Accuracy of the network on the 5000 validation images: 82.78 %\n",
            "Epoch [12/20], Loss: 0.1349\n",
            "Accuracy of the network on the 5000 validation images: 83.9 %\n",
            "Epoch [13/20], Loss: 0.4983\n",
            "Accuracy of the network on the 5000 validation images: 84.22 %\n",
            "Epoch [14/20], Loss: 0.2794\n",
            "Accuracy of the network on the 5000 validation images: 83.4 %\n",
            "Epoch [15/20], Loss: 0.2036\n",
            "Accuracy of the network on the 5000 validation images: 83.96 %\n",
            "Epoch [16/20], Loss: 0.1587\n",
            "Accuracy of the network on the 5000 validation images: 83.48 %\n",
            "Epoch [17/20], Loss: 0.7819\n",
            "Accuracy of the network on the 5000 validation images: 81.56 %\n",
            "Epoch [18/20], Loss: 0.1489\n",
            "Accuracy of the network on the 5000 validation images: 83.56 %\n",
            "Epoch [19/20], Loss: 0.6740\n",
            "Accuracy of the network on the 5000 validation images: 83.86 %\n",
            "Epoch [20/20], Loss: 0.3776\n",
            "Accuracy of the network on the 5000 validation images: 83.12 %\n"
          ]
        }
      ],
      "source": [
        "import gc\n",
        "total_step = len(train_loader)\n",
        "\n",
        "for epoch in range(num_epochs):\n",
        "    for i, (images, labels) in enumerate(train_loader):  \n",
        "        # Move tensors to the configured device\n",
        "        images = images.to(device)\n",
        "        labels = labels.to(device)\n",
        "        \n",
        "        # Forward pass\n",
        "        outputs = model(images)\n",
        "        loss = criterion(outputs, labels)\n",
        "        \n",
        "        # Backward and optimize\n",
        "        optimizer.zero_grad()\n",
        "        loss.backward()\n",
        "        optimizer.step()\n",
        "        del images, labels, outputs\n",
        "        torch.cuda.empty_cache()\n",
        "        gc.collect()\n",
        "\n",
        "    print ('Epoch [{}/{}], Loss: {:.4f}' \n",
        "                   .format(epoch+1, num_epochs, loss.item()))\n",
        "            \n",
        "    # Validation\n",
        "    with torch.no_grad():\n",
        "        correct = 0\n",
        "        total = 0\n",
        "        for images, labels in valid_loader:\n",
        "            images = images.to(device)\n",
        "            labels = labels.to(device)\n",
        "            outputs = model(images)\n",
        "            _, predicted = torch.max(outputs.data, 1)\n",
        "            total += labels.size(0)\n",
        "            correct += (predicted == labels).sum().item()\n",
        "            del images, labels, outputs\n",
        "    \n",
        "        print('Accuracy of the network on the {} validation images: {} %'.format(5000, 100 * correct / total)) "
      ]
    },
    {
      "cell_type": "code",
      "execution_count": 8,
      "metadata": {
        "id": "3JKS1EeWFqkT",
        "colab": {
          "base_uri": "https://localhost:8080/"
        },
        "outputId": "e8d932ae-5205-4bb2-b8bc-2e0c4c28b8c3"
      },
      "outputs": [
        {
          "output_type": "stream",
          "name": "stdout",
          "text": [
            "Accuracy of the network on the 10000 test images: 82.71 %\n"
          ]
        }
      ],
      "source": [
        "with torch.no_grad():\n",
        "    correct = 0\n",
        "    total = 0\n",
        "    for images, labels in test_loader:\n",
        "        images = images.to(device)\n",
        "        labels = labels.to(device)\n",
        "        outputs = model(images)\n",
        "        _, predicted = torch.max(outputs.data, 1)\n",
        "        total += labels.size(0)\n",
        "        correct += (predicted == labels).sum().item()\n",
        "        del images, labels, outputs\n",
        "\n",
        "    print('Accuracy of the network on the {} test images: {} %'.format(10000, 100 * correct / total))   "
      ]
    },
    {
      "cell_type": "markdown",
      "metadata": {
        "id": "3P1Y_oaRGPNX"
      },
      "source": [
        "#References\n",
        "https://www.youtube.com/watch?v=d2kxUVwWWwU\n",
        "\n",
        "https://towardsdatascience.com/resnets-for-cifar-10-e63e900524e0\n",
        "\n",
        "https://blog.paperspace.com/writing-resnet-from-scratch-in-pytorch/"
      ]
    },
    {
      "cell_type": "code",
      "execution_count": null,
      "metadata": {
        "id": "_hEJj1jRGOhn"
      },
      "outputs": [],
      "source": []
    }
  ],
  "metadata": {
    "accelerator": "GPU",
    "colab": {
      "provenance": []
    },
    "gpuClass": "standard",
    "kernelspec": {
      "display_name": "Python 3",
      "name": "python3"
    },
    "widgets": {
      "application/vnd.jupyter.widget-state+json": {
        "14e7828751834edd85c0b0bec15cbdff": {
          "model_module": "@jupyter-widgets/controls",
          "model_module_version": "1.5.0",
          "model_name": "DescriptionStyleModel",
          "state": {
            "_model_module": "@jupyter-widgets/controls",
            "_model_module_version": "1.5.0",
            "_model_name": "DescriptionStyleModel",
            "_view_count": null,
            "_view_module": "@jupyter-widgets/base",
            "_view_module_version": "1.2.0",
            "_view_name": "StyleView",
            "description_width": ""
          }
        },
        "25c1fc18cdb543c1b370820b847f9787": {
          "model_module": "@jupyter-widgets/controls",
          "model_module_version": "1.5.0",
          "model_name": "ProgressStyleModel",
          "state": {
            "_model_module": "@jupyter-widgets/controls",
            "_model_module_version": "1.5.0",
            "_model_name": "ProgressStyleModel",
            "_view_count": null,
            "_view_module": "@jupyter-widgets/base",
            "_view_module_version": "1.2.0",
            "_view_name": "StyleView",
            "bar_color": null,
            "description_width": ""
          }
        },
        "42f7b8633cb847088a8d421276b1d42c": {
          "model_module": "@jupyter-widgets/controls",
          "model_module_version": "1.5.0",
          "model_name": "DescriptionStyleModel",
          "state": {
            "_model_module": "@jupyter-widgets/controls",
            "_model_module_version": "1.5.0",
            "_model_name": "DescriptionStyleModel",
            "_view_count": null,
            "_view_module": "@jupyter-widgets/base",
            "_view_module_version": "1.2.0",
            "_view_name": "StyleView",
            "description_width": ""
          }
        },
        "4e38d52ab5e84a9087c51295b701950b": {
          "model_module": "@jupyter-widgets/controls",
          "model_module_version": "1.5.0",
          "model_name": "HTMLModel",
          "state": {
            "_dom_classes": [],
            "_model_module": "@jupyter-widgets/controls",
            "_model_module_version": "1.5.0",
            "_model_name": "HTMLModel",
            "_view_count": null,
            "_view_module": "@jupyter-widgets/controls",
            "_view_module_version": "1.5.0",
            "_view_name": "HTMLView",
            "description": "",
            "description_tooltip": null,
            "layout": "IPY_MODEL_6a066c7461b242de839250f1203c78d2",
            "placeholder": "​",
            "style": "IPY_MODEL_42f7b8633cb847088a8d421276b1d42c",
            "value": "100%"
          }
        },
        "64569b37797c45719fa8fe1767c1d0c5": {
          "model_module": "@jupyter-widgets/base",
          "model_module_version": "1.2.0",
          "model_name": "LayoutModel",
          "state": {
            "_model_module": "@jupyter-widgets/base",
            "_model_module_version": "1.2.0",
            "_model_name": "LayoutModel",
            "_view_count": null,
            "_view_module": "@jupyter-widgets/base",
            "_view_module_version": "1.2.0",
            "_view_name": "LayoutView",
            "align_content": null,
            "align_items": null,
            "align_self": null,
            "border": null,
            "bottom": null,
            "display": null,
            "flex": null,
            "flex_flow": null,
            "grid_area": null,
            "grid_auto_columns": null,
            "grid_auto_flow": null,
            "grid_auto_rows": null,
            "grid_column": null,
            "grid_gap": null,
            "grid_row": null,
            "grid_template_areas": null,
            "grid_template_columns": null,
            "grid_template_rows": null,
            "height": null,
            "justify_content": null,
            "justify_items": null,
            "left": null,
            "margin": null,
            "max_height": null,
            "max_width": null,
            "min_height": null,
            "min_width": null,
            "object_fit": null,
            "object_position": null,
            "order": null,
            "overflow": null,
            "overflow_x": null,
            "overflow_y": null,
            "padding": null,
            "right": null,
            "top": null,
            "visibility": null,
            "width": null
          }
        },
        "6a066c7461b242de839250f1203c78d2": {
          "model_module": "@jupyter-widgets/base",
          "model_module_version": "1.2.0",
          "model_name": "LayoutModel",
          "state": {
            "_model_module": "@jupyter-widgets/base",
            "_model_module_version": "1.2.0",
            "_model_name": "LayoutModel",
            "_view_count": null,
            "_view_module": "@jupyter-widgets/base",
            "_view_module_version": "1.2.0",
            "_view_name": "LayoutView",
            "align_content": null,
            "align_items": null,
            "align_self": null,
            "border": null,
            "bottom": null,
            "display": null,
            "flex": null,
            "flex_flow": null,
            "grid_area": null,
            "grid_auto_columns": null,
            "grid_auto_flow": null,
            "grid_auto_rows": null,
            "grid_column": null,
            "grid_gap": null,
            "grid_row": null,
            "grid_template_areas": null,
            "grid_template_columns": null,
            "grid_template_rows": null,
            "height": null,
            "justify_content": null,
            "justify_items": null,
            "left": null,
            "margin": null,
            "max_height": null,
            "max_width": null,
            "min_height": null,
            "min_width": null,
            "object_fit": null,
            "object_position": null,
            "order": null,
            "overflow": null,
            "overflow_x": null,
            "overflow_y": null,
            "padding": null,
            "right": null,
            "top": null,
            "visibility": null,
            "width": null
          }
        },
        "70ad5c813db5429193c61c7a140f00b5": {
          "model_module": "@jupyter-widgets/base",
          "model_module_version": "1.2.0",
          "model_name": "LayoutModel",
          "state": {
            "_model_module": "@jupyter-widgets/base",
            "_model_module_version": "1.2.0",
            "_model_name": "LayoutModel",
            "_view_count": null,
            "_view_module": "@jupyter-widgets/base",
            "_view_module_version": "1.2.0",
            "_view_name": "LayoutView",
            "align_content": null,
            "align_items": null,
            "align_self": null,
            "border": null,
            "bottom": null,
            "display": null,
            "flex": null,
            "flex_flow": null,
            "grid_area": null,
            "grid_auto_columns": null,
            "grid_auto_flow": null,
            "grid_auto_rows": null,
            "grid_column": null,
            "grid_gap": null,
            "grid_row": null,
            "grid_template_areas": null,
            "grid_template_columns": null,
            "grid_template_rows": null,
            "height": null,
            "justify_content": null,
            "justify_items": null,
            "left": null,
            "margin": null,
            "max_height": null,
            "max_width": null,
            "min_height": null,
            "min_width": null,
            "object_fit": null,
            "object_position": null,
            "order": null,
            "overflow": null,
            "overflow_x": null,
            "overflow_y": null,
            "padding": null,
            "right": null,
            "top": null,
            "visibility": null,
            "width": null
          }
        },
        "87ae5770a9bd442fa41b6b813116de9b": {
          "model_module": "@jupyter-widgets/controls",
          "model_module_version": "1.5.0",
          "model_name": "FloatProgressModel",
          "state": {
            "_dom_classes": [],
            "_model_module": "@jupyter-widgets/controls",
            "_model_module_version": "1.5.0",
            "_model_name": "FloatProgressModel",
            "_view_count": null,
            "_view_module": "@jupyter-widgets/controls",
            "_view_module_version": "1.5.0",
            "_view_name": "ProgressView",
            "bar_style": "success",
            "description": "",
            "description_tooltip": null,
            "layout": "IPY_MODEL_70ad5c813db5429193c61c7a140f00b5",
            "max": 170498071,
            "min": 0,
            "orientation": "horizontal",
            "style": "IPY_MODEL_25c1fc18cdb543c1b370820b847f9787",
            "value": 170498071
          }
        },
        "8901d02ae11e4594a04f35e8ca9f51aa": {
          "model_module": "@jupyter-widgets/controls",
          "model_module_version": "1.5.0",
          "model_name": "HTMLModel",
          "state": {
            "_dom_classes": [],
            "_model_module": "@jupyter-widgets/controls",
            "_model_module_version": "1.5.0",
            "_model_name": "HTMLModel",
            "_view_count": null,
            "_view_module": "@jupyter-widgets/controls",
            "_view_module_version": "1.5.0",
            "_view_name": "HTMLView",
            "description": "",
            "description_tooltip": null,
            "layout": "IPY_MODEL_97bc4ccfa734444c96f6837e4e3fad89",
            "placeholder": "​",
            "style": "IPY_MODEL_14e7828751834edd85c0b0bec15cbdff",
            "value": " 170498071/170498071 [00:04&lt;00:00, 38162562.92it/s]"
          }
        },
        "97bc4ccfa734444c96f6837e4e3fad89": {
          "model_module": "@jupyter-widgets/base",
          "model_module_version": "1.2.0",
          "model_name": "LayoutModel",
          "state": {
            "_model_module": "@jupyter-widgets/base",
            "_model_module_version": "1.2.0",
            "_model_name": "LayoutModel",
            "_view_count": null,
            "_view_module": "@jupyter-widgets/base",
            "_view_module_version": "1.2.0",
            "_view_name": "LayoutView",
            "align_content": null,
            "align_items": null,
            "align_self": null,
            "border": null,
            "bottom": null,
            "display": null,
            "flex": null,
            "flex_flow": null,
            "grid_area": null,
            "grid_auto_columns": null,
            "grid_auto_flow": null,
            "grid_auto_rows": null,
            "grid_column": null,
            "grid_gap": null,
            "grid_row": null,
            "grid_template_areas": null,
            "grid_template_columns": null,
            "grid_template_rows": null,
            "height": null,
            "justify_content": null,
            "justify_items": null,
            "left": null,
            "margin": null,
            "max_height": null,
            "max_width": null,
            "min_height": null,
            "min_width": null,
            "object_fit": null,
            "object_position": null,
            "order": null,
            "overflow": null,
            "overflow_x": null,
            "overflow_y": null,
            "padding": null,
            "right": null,
            "top": null,
            "visibility": null,
            "width": null
          }
        },
        "f3998837240a4d00989b25969bfc7de2": {
          "model_module": "@jupyter-widgets/controls",
          "model_module_version": "1.5.0",
          "model_name": "HBoxModel",
          "state": {
            "_dom_classes": [],
            "_model_module": "@jupyter-widgets/controls",
            "_model_module_version": "1.5.0",
            "_model_name": "HBoxModel",
            "_view_count": null,
            "_view_module": "@jupyter-widgets/controls",
            "_view_module_version": "1.5.0",
            "_view_name": "HBoxView",
            "box_style": "",
            "children": [
              "IPY_MODEL_4e38d52ab5e84a9087c51295b701950b",
              "IPY_MODEL_87ae5770a9bd442fa41b6b813116de9b",
              "IPY_MODEL_8901d02ae11e4594a04f35e8ca9f51aa"
            ],
            "layout": "IPY_MODEL_64569b37797c45719fa8fe1767c1d0c5"
          }
        }
      }
    }
  },
  "nbformat": 4,
  "nbformat_minor": 0
}